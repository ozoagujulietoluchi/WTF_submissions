{
  "nbformat": 4,
  "nbformat_minor": 0,
  "metadata": {
    "colab": {
      "provenance": [],
      "mount_file_id": "1e-R9vRBN9qRiMZvyvPTnbkaQDuGHJofF",
      "authorship_tag": "ABX9TyOiL9ZC35N+8b91PeRIKrCn",
      "include_colab_link": true
    },
    "kernelspec": {
      "name": "python3",
      "display_name": "Python 3"
    },
    "language_info": {
      "name": "python"
    }
  },
  "cells": [
    {
      "cell_type": "markdown",
      "metadata": {
        "id": "view-in-github",
        "colab_type": "text"
      },
      "source": [
        "<a href=\"https://colab.research.google.com/github/ozoagujulietoluchi/WTF_submissions/blob/main/ozoagujulietDOConNUMPY.ipynb\" target=\"_parent\"><img src=\"https://colab.research.google.com/assets/colab-badge.svg\" alt=\"Open In Colab\"/></a>"
      ]
    },
    {
      "cell_type": "code",
      "execution_count": null,
      "metadata": {
        "id": "g_nDjxOz-UQX"
      },
      "outputs": [],
      "source": [
        "import numpy as np"
      ]
    },
    {
      "cell_type": "code",
      "source": [
        "#Reading examples on numpy\n",
        "array = np.array([[4, 2, 8],\n",
        "              [4, 6, 10]])\n",
        "array.shape\n",
        "#This is used to indicate the number of rows and columns present in this given array\n"
      ],
      "metadata": {
        "colab": {
          "base_uri": "https://localhost:8080/"
        },
        "id": "ESWM7Jz--qXl",
        "outputId": "f68457dc-8f74-4916-de47-3fe2df3fe2eb"
      },
      "execution_count": null,
      "outputs": [
        {
          "output_type": "execute_result",
          "data": {
            "text/plain": [
              "(2, 3)"
            ]
          },
          "metadata": {},
          "execution_count": 3
        }
      ]
    },
    {
      "cell_type": "code",
      "source": [
        "#Array fundamentals\n",
        "#Arrays can be put into python sequence such as list. eg\n",
        "arr = np.array([11, 12, 13, 14, 15, 16])\n",
        "arr"
      ],
      "metadata": {
        "colab": {
          "base_uri": "https://localhost:8080/"
        },
        "id": "RpdLL5r_A26F",
        "outputId": "235745d9-73ac-44eb-d6c9-fcf1c23e8542"
      },
      "execution_count": null,
      "outputs": [
        {
          "output_type": "execute_result",
          "data": {
            "text/plain": [
              "array([11, 12, 13, 14, 15, 16])"
            ]
          },
          "metadata": {},
          "execution_count": 5
        }
      ]
    },
    {
      "cell_type": "code",
      "source": [
        "#The position of the array can be accessed using integer indexing. eg\n",
        "arr[4]"
      ],
      "metadata": {
        "colab": {
          "base_uri": "https://localhost:8080/"
        },
        "id": "bPpb0dEfIWM8",
        "outputId": "be7b0e32-6d6a-4f00-ab69-691378ca82f7"
      },
      "execution_count": null,
      "outputs": [
        {
          "output_type": "execute_result",
          "data": {
            "text/plain": [
              "15"
            ]
          },
          "metadata": {},
          "execution_count": 6
        }
      ]
    },
    {
      "cell_type": "code",
      "source": [
        "#like original list, arrays are mutable\n",
        "arr[3] = 10\n",
        "arr"
      ],
      "metadata": {
        "colab": {
          "base_uri": "https://localhost:8080/"
        },
        "id": "HaT5md0ULBqm",
        "outputId": "b6350c3b-aff5-4917-fa93-9f60ba573f13"
      },
      "execution_count": null,
      "outputs": [
        {
          "output_type": "execute_result",
          "data": {
            "text/plain": [
              "array([11, 12, 13, 10, 15, 16])"
            ]
          },
          "metadata": {},
          "execution_count": 7
        }
      ]
    },
    {
      "cell_type": "code",
      "source": [
        "#slicing into one dimensional array\n",
        "arr2 = np.array([3,4,5,6,7,12,23,34,56,78,98])\n",
        "arr2\n"
      ],
      "metadata": {
        "colab": {
          "base_uri": "https://localhost:8080/"
        },
        "id": "mAWeGGDXNre_",
        "outputId": "f90f75bb-4e4d-4620-a76a-97090ccae596"
      },
      "execution_count": null,
      "outputs": [
        {
          "output_type": "execute_result",
          "data": {
            "text/plain": [
              "array([ 3,  4,  5,  6,  7, 12, 23, 34, 56, 78, 98])"
            ]
          },
          "metadata": {},
          "execution_count": 8
        }
      ]
    },
    {
      "cell_type": "code",
      "source": [
        "slicing_intoarray = arr2[3:]\n",
        "slicing_intoarray"
      ],
      "metadata": {
        "colab": {
          "base_uri": "https://localhost:8080/"
        },
        "id": "TuR_3EpgPFIp",
        "outputId": "50a180c2-7190-45e7-81b2-d1649b236f8e"
      },
      "execution_count": null,
      "outputs": [
        {
          "output_type": "execute_result",
          "data": {
            "text/plain": [
              "array([ 6,  7, 12, 23, 34, 56, 78, 98])"
            ]
          },
          "metadata": {},
          "execution_count": 9
        }
      ]
    },
    {
      "cell_type": "code",
      "source": [
        "slicing_intoarray2 = arr2[-3:]\n",
        "slicing_intoarray2"
      ],
      "metadata": {
        "colab": {
          "base_uri": "https://localhost:8080/"
        },
        "id": "Rfl1Lf39O80a",
        "outputId": "619b3803-d681-479d-b0f9-c43e09fd5e8e"
      },
      "execution_count": null,
      "outputs": [
        {
          "output_type": "execute_result",
          "data": {
            "text/plain": [
              "array([56, 78, 98])"
            ]
          },
          "metadata": {},
          "execution_count": 10
        }
      ]
    },
    {
      "cell_type": "code",
      "source": [
        "#initializing two and  higher dimentional arrays using nested python sequence\n",
        "array2 =np.array ([[2,4,6,8,10,],[1,3,5,7,9],[11,13,15,17,19]])\n",
        "array2\n"
      ],
      "metadata": {
        "colab": {
          "base_uri": "https://localhost:8080/"
        },
        "id": "RVBmhUbRP_tM",
        "outputId": "982ec7c2-f8f6-4e4d-fd36-d57b8cefc00a"
      },
      "execution_count": null,
      "outputs": [
        {
          "output_type": "execute_result",
          "data": {
            "text/plain": [
              "array([[ 2,  4,  6,  8, 10],\n",
              "       [ 1,  3,  5,  7,  9],\n",
              "       [11, 13, 15, 17, 19]])"
            ]
          },
          "metadata": {},
          "execution_count": 11
        }
      ]
    },
    {
      "cell_type": "code",
      "source": [
        "#using an ndim attribute\n",
        "array2.ndim"
      ],
      "metadata": {
        "colab": {
          "base_uri": "https://localhost:8080/"
        },
        "id": "NKVsQjAfZ_fq",
        "outputId": "9fd8e1ac-ddda-4965-8922-0d32e572af4a"
      },
      "execution_count": null,
      "outputs": [
        {
          "output_type": "execute_result",
          "data": {
            "text/plain": [
              "2"
            ]
          },
          "metadata": {},
          "execution_count": 12
        }
      ]
    },
    {
      "cell_type": "code",
      "source": [
        "#chacking the shape of the array using this function\n",
        "array2.shape"
      ],
      "metadata": {
        "colab": {
          "base_uri": "https://localhost:8080/"
        },
        "id": "7QPb_E3Ra2vD",
        "outputId": "bffedb62-2e85-4057-bb22-4bec6dcfb15e"
      },
      "execution_count": null,
      "outputs": [
        {
          "output_type": "execute_result",
          "data": {
            "text/plain": [
              "(3, 5)"
            ]
          },
          "metadata": {},
          "execution_count": 13
        }
      ]
    },
    {
      "cell_type": "code",
      "source": [
        "#checking the size of the array using this function\n",
        "array2.size"
      ],
      "metadata": {
        "colab": {
          "base_uri": "https://localhost:8080/"
        },
        "id": "MrpnNJGabWK4",
        "outputId": "59bae960-0279-40fa-b289-4e517fd53546"
      },
      "execution_count": null,
      "outputs": [
        {
          "output_type": "execute_result",
          "data": {
            "text/plain": [
              "15"
            ]
          },
          "metadata": {},
          "execution_count": 14
        }
      ]
    },
    {
      "cell_type": "code",
      "source": [
        "#checking if the result gotten from the size function gives the same output as the product of the result gotten fron shape function\n",
        "import math\n",
        "array2.size == math.prod(array2.shape)"
      ],
      "metadata": {
        "colab": {
          "base_uri": "https://localhost:8080/"
        },
        "id": "zOQ-2QBYbr_J",
        "outputId": "a097c661-e838-4817-f399-a9bc20159a58"
      },
      "execution_count": null,
      "outputs": [
        {
          "output_type": "execute_result",
          "data": {
            "text/plain": [
              "True"
            ]
          },
          "metadata": {},
          "execution_count": 15
        }
      ]
    },
    {
      "cell_type": "code",
      "source": [
        "#creating an array filled with 0s in three places or in three column usin this function\n",
        "np.zeros(3)"
      ],
      "metadata": {
        "colab": {
          "base_uri": "https://localhost:8080/"
        },
        "id": "u__8A4ZxdDv_",
        "outputId": "9cd0df74-9515-419e-c687-04c969ab7034"
      },
      "execution_count": null,
      "outputs": [
        {
          "output_type": "execute_result",
          "data": {
            "text/plain": [
              "array([0., 0., 0.])"
            ]
          },
          "metadata": {},
          "execution_count": 16
        }
      ]
    },
    {
      "cell_type": "code",
      "source": [
        "#creating an array filled with 1s in four column usin this function\n",
        "np.ones(4)\n"
      ],
      "metadata": {
        "colab": {
          "base_uri": "https://localhost:8080/"
        },
        "id": "TZWIluMBe1Kk",
        "outputId": "d5dfaeff-8db3-4b18-8aaf-9618ab10889c"
      },
      "execution_count": null,
      "outputs": [
        {
          "output_type": "execute_result",
          "data": {
            "text/plain": [
              "array([1., 1., 1., 1.])"
            ]
          },
          "metadata": {},
          "execution_count": 17
        }
      ]
    },
    {
      "cell_type": "code",
      "source": [
        "#checking the range of an array using this function\n",
        "np.arange(10)"
      ],
      "metadata": {
        "colab": {
          "base_uri": "https://localhost:8080/"
        },
        "id": "wyeJrcDgfkvp",
        "outputId": "7f8c7539-a584-4cfb-a30e-2b82ddbaa3a2"
      },
      "execution_count": null,
      "outputs": [
        {
          "output_type": "execute_result",
          "data": {
            "text/plain": [
              "array([0, 1, 2, 3, 4, 5, 6, 7, 8, 9])"
            ]
          },
          "metadata": {},
          "execution_count": 19
        }
      ]
    },
    {
      "cell_type": "code",
      "source": [
        "#creating an array that its value spaced literally in interval\n",
        "np.linspace(0, 20, num=6)"
      ],
      "metadata": {
        "colab": {
          "base_uri": "https://localhost:8080/"
        },
        "id": "YaDeyLvtgEY0",
        "outputId": "81b6d978-65a9-4881-d236-73c993292c22"
      },
      "execution_count": null,
      "outputs": [
        {
          "output_type": "execute_result",
          "data": {
            "text/plain": [
              "array([ 0.,  4.,  8., 12., 16., 20.])"
            ]
          },
          "metadata": {},
          "execution_count": 24
        }
      ]
    },
    {
      "cell_type": "code",
      "source": [
        "#arrays are sorted using this function\n",
        "\n",
        "sor = np.array([1,2,3,4,5,6,12,23,45,7,10,8,9])\n",
        "\n",
        "np.sort(sor)"
      ],
      "metadata": {
        "colab": {
          "base_uri": "https://localhost:8080/"
        },
        "id": "NcpiisL_hVWe",
        "outputId": "ee3b458f-8202-416a-9d6a-3bb6f414a3b0"
      },
      "execution_count": null,
      "outputs": [
        {
          "output_type": "execute_result",
          "data": {
            "text/plain": [
              "array([ 1,  2,  3,  4,  5,  6,  7,  8,  9, 10, 12, 23, 45])"
            ]
          },
          "metadata": {},
          "execution_count": 30
        }
      ]
    },
    {
      "cell_type": "code",
      "source": [
        "sor = np.array([1,2,3,4,5,6,12,23,45,7,10,8,9])\n",
        "\n",
        "np.argsort(sor)"
      ],
      "metadata": {
        "colab": {
          "base_uri": "https://localhost:8080/"
        },
        "id": "ca_K0S5JirM8",
        "outputId": "8e504765-1a0e-4793-837d-76babd0df736"
      },
      "execution_count": null,
      "outputs": [
        {
          "output_type": "execute_result",
          "data": {
            "text/plain": [
              "array([ 0,  1,  2,  3,  4,  5,  9, 11, 12, 10,  6,  7,  8])"
            ]
          },
          "metadata": {},
          "execution_count": 31
        }
      ]
    },
    {
      "cell_type": "code",
      "source": [
        "sor = np.array([1,2,3,4,5,6,12,23,45,7,10,8,9])\n",
        "\n",
        "np.lexsort(sor)"
      ],
      "metadata": {
        "colab": {
          "base_uri": "https://localhost:8080/"
        },
        "id": "1JeS_-gNjSz1",
        "outputId": "abfec43e-cc6d-4f47-e5e1-0e70c4462d18"
      },
      "execution_count": null,
      "outputs": [
        {
          "output_type": "execute_result",
          "data": {
            "text/plain": [
              "0"
            ]
          },
          "metadata": {},
          "execution_count": 32
        }
      ]
    },
    {
      "cell_type": "code",
      "source": [
        "#concatenating one dimensional array\n",
        "a = np.array([1,2,3,4])\n",
        "b = np.array([5,6,7,8,9])\n",
        "np.concatenate((a,b))"
      ],
      "metadata": {
        "colab": {
          "base_uri": "https://localhost:8080/"
        },
        "id": "o1mOdfGpkHdk",
        "outputId": "de35694d-3f25-4a86-dc61-138216d970b2"
      },
      "execution_count": null,
      "outputs": [
        {
          "output_type": "execute_result",
          "data": {
            "text/plain": [
              "array([1, 2, 3, 4, 5, 6, 7, 8, 9])"
            ]
          },
          "metadata": {},
          "execution_count": 39
        }
      ]
    },
    {
      "cell_type": "code",
      "source": [
        "#concatenating two dimensional arrays\n",
        "c = np.array([[1,2,3], [4,5,6]])\n",
        "d = np.array([[7,8,9],[12,13,14]])\n",
        "np.concatenate((c,d))"
      ],
      "metadata": {
        "colab": {
          "base_uri": "https://localhost:8080/"
        },
        "id": "bW_V5fRjpj9V",
        "outputId": "97df8ed4-abb1-479e-c356-06406a25e01f"
      },
      "execution_count": null,
      "outputs": [
        {
          "output_type": "execute_result",
          "data": {
            "text/plain": [
              "array([[ 1,  2,  3],\n",
              "       [ 4,  5,  6],\n",
              "       [ 7,  8,  9],\n",
              "       [12, 13, 14]])"
            ]
          },
          "metadata": {},
          "execution_count": 46
        }
      ]
    },
    {
      "cell_type": "code",
      "source": [
        "x = np.array([[1, 2], [3, 4]])\n",
        "y = np.array([[5, 6]])\n",
        "np.concatenate((x, y))\n"
      ],
      "metadata": {
        "colab": {
          "base_uri": "https://localhost:8080/"
        },
        "id": "8FLySmiQrXzj",
        "outputId": "b39089ef-6a60-437c-ec8d-2ddf19266a1f"
      },
      "execution_count": null,
      "outputs": [
        {
          "output_type": "execute_result",
          "data": {
            "text/plain": [
              "array([[1, 2],\n",
              "       [3, 4],\n",
              "       [5, 6]])"
            ]
          },
          "metadata": {},
          "execution_count": 48
        }
      ]
    },
    {
      "cell_type": "code",
      "source": [
        "#reshaoing of an array\n",
        "ab =np.array ([20,20,30,40])\n",
        "ab.reshape(2,2)"
      ],
      "metadata": {
        "colab": {
          "base_uri": "https://localhost:8080/"
        },
        "id": "7TmQmn5puKc2",
        "outputId": "1c4f7556-7b88-4be6-b233-8a8bf9fb5205"
      },
      "execution_count": null,
      "outputs": [
        {
          "output_type": "execute_result",
          "data": {
            "text/plain": [
              "array([[20, 20],\n",
              "       [30, 40]])"
            ]
          },
          "metadata": {},
          "execution_count": 50
        }
      ]
    },
    {
      "cell_type": "code",
      "source": [
        "#indexing and slicing are done using these functions\n",
        "able = np.array([2,3,4,5,6,7,8,9,10,13,14,35])\n",
        "able[2:]\n",
        "more_index = able\n",
        "more_index[5:7]"
      ],
      "metadata": {
        "id": "ZLky6Gpwpj54",
        "colab": {
          "base_uri": "https://localhost:8080/"
        },
        "outputId": "0be1be76-f362-43c0-f494-b37b97b1563a"
      },
      "execution_count": null,
      "outputs": [
        {
          "output_type": "execute_result",
          "data": {
            "text/plain": [
              "array([7, 8])"
            ]
          },
          "metadata": {},
          "execution_count": 4
        }
      ]
    },
    {
      "cell_type": "code",
      "source": [
        "get = np.array([2,3,4,5,6,7,8,9,10,13,14,35])\n",
        "get[-4:]"
      ],
      "metadata": {
        "colab": {
          "base_uri": "https://localhost:8080/"
        },
        "id": "HpXJiQpNXMFT",
        "outputId": "f01e50b5-ef74-4888-8f7a-ca06c0286d96"
      },
      "execution_count": null,
      "outputs": [
        {
          "output_type": "execute_result",
          "data": {
            "text/plain": [
              "array([10, 13, 14, 35])"
            ]
          },
          "metadata": {},
          "execution_count": 5
        }
      ]
    }
  ]
}